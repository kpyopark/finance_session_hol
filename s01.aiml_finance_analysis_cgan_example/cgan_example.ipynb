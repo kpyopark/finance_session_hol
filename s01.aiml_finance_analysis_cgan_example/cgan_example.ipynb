{
 "cells": [
  {
   "cell_type": "markdown",
   "metadata": {},
   "source": [
    "<table class=\"tfo-notebook-buttons\" align=\"left\">\n",
    "  <td>\n",
    "    <a target=\"_blank\" href=\"https://colab.research.google.com/github/kpyopark/finance_session_hol/s01.aiml_finance_analysis_cgan_example/cgan_example.ipynb\">\n",
    "    <img src=\"https://www.tensorflow.org/images/colab_logo_32px.png\" />Run in Google Colab</a>\n",
    "  </td>\n",
    "  <td>\n",
    "    <a target=\"_blank\" href=\"https://github.com/kpyopark/finance_session_hol/blob/main/s01.aiml_finance_analysis_cgan_example/cgan_example.ipynb\">\n",
    "    <img src=\"https://www.tensorflow.org/images/GitHub-Mark-32px.png\" />View source on GitHub</a>\n",
    "  </td>\n",
    "</table>"
   ]
  },
  {
   "cell_type": "code",
   "execution_count": null,
   "metadata": {},
   "outputs": [],
   "source": [
    "#! pip install --upgrade pip setuptools wheel\n",
    "! pip install torch yfinance"
   ]
  },
  {
   "cell_type": "code",
   "execution_count": null,
   "metadata": {},
   "outputs": [],
   "source": [
    "import torch\n",
    "import torch.nn as nn\n",
    "import numpy as np\n",
    "import matplotlib.pyplot as plt\n",
    "import pandas as pd\n",
    "import yfinance as yf\n",
    "from sklearn.preprocessing import MinMaxScaler\n",
    "\n",
    "# 삼성전자 주가 데이터 다운로드\n",
    "samsung = yf.Ticker(\"005930.KS\")\n",
    "data = samsung.history(start=\"2023-10-01\", end=\"2024-05-30\")\n",
    "\n",
    "# 종가 데이터 추출 및 정규화\n",
    "close_prices = data['Close'].values.reshape(-1, 1)\n",
    "scaler = MinMaxScaler(feature_range=(-1, 1))\n",
    "normalized_data = scaler.fit_transform(close_prices)\n",
    "\n",
    "# PyTorch 텐서로 변환\n",
    "real_data = torch.FloatTensor(normalized_data)"
   ]
  },
  {
   "cell_type": "code",
   "execution_count": null,
   "metadata": {},
   "outputs": [],
   "source": [
    "class Generator(nn.Module):\n",
    "    def __init__(self, input_dim, hidden_dim, sequence_length):\n",
    "        super(Generator, self).__init__()\n",
    "        self.lstm = nn.LSTM(input_dim, hidden_dim, num_layers=2, batch_first=True)\n",
    "        self.linear = nn.Linear(hidden_dim, 1)\n",
    "        \n",
    "    def forward(self, z, c):\n",
    "        x = torch.cat([z, c], dim=-1)\n",
    "        x, _ = self.lstm(x)\n",
    "        return self.linear(x)\n",
    "\n",
    "class Discriminator(nn.Module):\n",
    "    def __init__(self, input_dim, hidden_dim):\n",
    "        super(Discriminator, self).__init__()\n",
    "        self.lstm = nn.LSTM(input_dim, hidden_dim, num_layers=2, batch_first=True)\n",
    "        self.linear = nn.Linear(hidden_dim, 1)\n",
    "        \n",
    "    def forward(self, x, c):\n",
    "        x = torch.cat([x, c], dim=-1)\n",
    "        x, _ = self.lstm(x)\n",
    "        return self.linear(x[:, -1, :])"
   ]
  },
  {
   "cell_type": "code",
   "execution_count": null,
   "metadata": {},
   "outputs": [],
   "source": [
    "def train_cgan(generator, discriminator, real_data, num_epochs, batch_size):\n",
    "    criterion = nn.BCEWithLogitsLoss()\n",
    "    g_optimizer = torch.optim.Adam(generator.parameters(), lr=0.0002)\n",
    "    d_optimizer = torch.optim.Adam(discriminator.parameters(), lr=0.0002)\n",
    "\n",
    "    for epoch in range(num_epochs):\n",
    "        for i in range(0, real_data.size(0) - sequence_length, batch_size):\n",
    "            batch = real_data[i:i+batch_size]\n",
    "            \n",
    "            # 조건 생성 (이전 5일 데이터를 조건으로 사용)\n",
    "            c = batch[:, :5].unsqueeze(-1)\n",
    "            \n",
    "            # Discriminator 학습\n",
    "            z = torch.randn(batch_size, sequence_length, noise_dim)\n",
    "            fake_data = generator(z, c)\n",
    "            \n",
    "            d_optimizer.zero_grad()\n",
    "            real_loss = criterion(discriminator(batch.unsqueeze(-1), c), torch.ones(batch_size, 1))\n",
    "            fake_loss = criterion(discriminator(fake_data.detach(), c), torch.zeros(batch_size, 1))\n",
    "            d_loss = (real_loss + fake_loss) / 2\n",
    "            d_loss.backward()\n",
    "            d_optimizer.step()\n",
    "            \n",
    "            # Generator 학습\n",
    "            g_optimizer.zero_grad()\n",
    "            g_loss = criterion(discriminator(fake_data, c), torch.ones(batch_size, 1))\n",
    "            g_loss.backward()\n",
    "            g_optimizer.step()\n",
    "        \n",
    "        if (epoch + 1) % 10 == 0:\n",
    "            print(f'Epoch [{epoch+1}/{num_epochs}], D_loss: {d_loss.item():.4f}, G_loss: {g_loss.item():.4f}')\n",
    "\n",
    "    return generator, discriminator"
   ]
  },
  {
   "cell_type": "code",
   "execution_count": null,
   "metadata": {},
   "outputs": [],
   "source": [
    "sequence_length = 30\n",
    "noise_dim = 10\n",
    "hidden_dim = 64\n",
    "batch_size = 32\n",
    "num_epochs = 500\n",
    "\n",
    "generator = Generator(noise_dim + 1, hidden_dim, sequence_length)\n",
    "discriminator = Discriminator(2, hidden_dim)\n",
    "\n",
    "trained_generator, _ = train_cgan(generator, discriminator, real_data, num_epochs, batch_size)\n",
    "\n",
    "# 결과 시각화\n",
    "z = torch.randn(1, sequence_length, noise_dim)\n",
    "c = real_data[:5].unsqueeze(0).unsqueeze(-1)\n",
    "generated_data = trained_generator(z, c).detach().numpy()\n",
    "\n",
    "# 데이터 역정규화\n",
    "generated_prices = scaler.inverse_transform(generated_data[0])\n",
    "real_prices = scaler.inverse_transform(real_data.numpy())\n",
    "\n",
    "plt.figure(figsize=(12, 6))\n",
    "plt.plot(data.index[-sequence_length:], real_prices[-sequence_length:], label='Real Data')\n",
    "plt.plot(data.index[-sequence_length:], generated_prices, label='Generated Data')\n",
    "plt.legend()\n",
    "plt.title('Samsung Electronics: Real vs Generated Stock Prices')\n",
    "plt.xlabel('Date')\n",
    "plt.ylabel('Price (KRW)')\n",
    "plt.xticks(rotation=45)\n",
    "plt.tight_layout()\n",
    "plt.show()"
   ]
  }
 ],
 "metadata": {
  "kernelspec": {
   "display_name": ".venv",
   "language": "python",
   "name": "python3"
  },
  "language_info": {
   "codemirror_mode": {
    "name": "ipython",
    "version": 3
   },
   "file_extension": ".py",
   "mimetype": "text/x-python",
   "name": "python",
   "nbconvert_exporter": "python",
   "pygments_lexer": "ipython3",
   "version": "3.8.10"
  }
 },
 "nbformat": 4,
 "nbformat_minor": 2
}
